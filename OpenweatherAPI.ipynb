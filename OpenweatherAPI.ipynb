{
 "cells": [
  {
   "cell_type": "code",
   "execution_count": 5,
   "id": "e92bdfb6-7408-49c2-896a-c3a4f3055391",
   "metadata": {},
   "outputs": [],
   "source": [
    "import datetime as dt\n",
    "import requests"
   ]
  },
  {
   "cell_type": "code",
   "execution_count": 6,
   "id": "8f7e7b3f-ee76-4324-893a-27f033abe620",
   "metadata": {},
   "outputs": [],
   "source": [
    "BASE_URL = \"http://api.openweathermap.org/data/2.5/weather?\"\n",
    "API_KEY = open('txt.txt','r').read()\n",
    "CITY = 'LONDON'"
   ]
  },
  {
   "cell_type": "code",
   "execution_count": 7,
   "id": "e2c7129c-1bf2-43de-8109-44497b7b520e",
   "metadata": {},
   "outputs": [],
   "source": [
    "url = BASE_URL + \"appid=\" + API_KEY + \"&q=\" + CITY "
   ]
  },
  {
   "cell_type": "code",
   "execution_count": 8,
   "id": "583f7ebd-99a2-432f-b33e-576fa9357023",
   "metadata": {},
   "outputs": [
    {
     "name": "stdout",
     "output_type": "stream",
     "text": [
      "{'coord': {'lon': -0.1257, 'lat': 51.5085}, 'weather': [{'id': 802, 'main': 'Clouds', 'description': 'scattered clouds', 'icon': '03n'}], 'base': 'stations', 'main': {'temp': 286.37, 'feels_like': 285.99, 'temp_min': 283.29, 'temp_max': 288.13, 'pressure': 1005, 'humidity': 86}, 'visibility': 10000, 'wind': {'speed': 3.09, 'deg': 90}, 'clouds': {'all': 26}, 'dt': 1715811984, 'sys': {'type': 2, 'id': 2075535, 'country': 'GB', 'sunrise': 1715746092, 'sunset': 1715802342}, 'timezone': 3600, 'id': 2643743, 'name': 'London', 'cod': 200}\n"
     ]
    }
   ],
   "source": [
    "response = requests.get(url).json()\n",
    "print(response)"
   ]
  },
  {
   "cell_type": "code",
   "execution_count": 9,
   "id": "6d8637f0-6005-46b3-9ff4-33f5b1433c90",
   "metadata": {},
   "outputs": [],
   "source": [
    "def kelvin_to_celsius_fahrenheit(kelvin):\n",
    "    celsius = kelvin - 273.15\n",
    "    fahrenheit = celsius * (9/5) +32\n",
    "    return celsius, fahrenheit"
   ]
  },
  {
   "cell_type": "code",
   "execution_count": 10,
   "id": "329e9729-b14a-4474-be19-d40ecb28a310",
   "metadata": {},
   "outputs": [],
   "source": [
    "temp_kelvin = response['main']['temp']\n",
    "temp_celsius, temp_fahrenheit = kelvin_to_celsius_fahrenheit(temp_kelvin)\n",
    "feels_like_kelvin = response['main']['feels_like']\n",
    "feels_like_celsius, feels_like_fahrenheit = kelvin_to_celsius_fahrenheit(feels_like_kelvin)\n",
    "humidity = response['main']['humidity']\n",
    "description = response['weather'][0]['description']\n",
    "sunrise_time = dt.datetime.utcfromtimestamp(response['sys']['sunrise']+response['timezone'])\n",
    "sunset_time = dt.datetime.utcfromtimestamp(response['sys']['sunset']+response['timezone'])\n",
    "wind_speed = response['wind']['speed']\n",
    "longitude = response['coord']['lon']\n",
    "latitude = response['coord']['lat']\n",
    "                                    \n",
    "\n"
   ]
  },
  {
   "cell_type": "code",
   "execution_count": 11,
   "id": "5e7118fe-75a4-474a-a312-5815a35bf467",
   "metadata": {},
   "outputs": [
    {
     "name": "stdout",
     "output_type": "stream",
     "text": [
      "Temperature in LONDON: 13.22'C or 55.80'F\n",
      "The City of LONDON sits on longitude:-0.1257 and latitude51.5085\n"
     ]
    }
   ],
   "source": [
    "print(f\"Temperature in {CITY}: {temp_celsius:.2f}'C or {temp_fahrenheit:.2f}'F\")\n",
    "print(f\"The City of {CITY} sits on longitude:{longitude} and latitude{latitude}\")"
   ]
  },
  {
   "cell_type": "code",
   "execution_count": null,
   "id": "a602a2b3",
   "metadata": {},
   "outputs": [],
   "source": []
  }
 ],
 "metadata": {
  "kernelspec": {
   "display_name": "Python 3 (ipykernel)",
   "language": "python",
   "name": "python3"
  },
  "language_info": {
   "codemirror_mode": {
    "name": "ipython",
    "version": 3
   },
   "file_extension": ".py",
   "mimetype": "text/x-python",
   "name": "python",
   "nbconvert_exporter": "python",
   "pygments_lexer": "ipython3",
   "version": "3.11.7"
  }
 },
 "nbformat": 4,
 "nbformat_minor": 5
}
